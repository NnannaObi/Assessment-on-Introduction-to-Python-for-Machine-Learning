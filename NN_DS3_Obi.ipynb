{
  "nbformat": 4,
  "nbformat_minor": 0,
  "metadata": {
    "colab": {
      "provenance": [],
      "authorship_tag": "ABX9TyNbgHjoBcWuMDpJKOujgiJK",
      "include_colab_link": true
    },
    "kernelspec": {
      "name": "python3",
      "display_name": "Python 3"
    },
    "language_info": {
      "name": "python"
    }
  },
  "cells": [
    {
      "cell_type": "markdown",
      "metadata": {
        "id": "view-in-github",
        "colab_type": "text"
      },
      "source": [
        "<a href=\"https://colab.research.google.com/github/NnannaObi/Assessment-on-Introduction-to-Python-for-Machine-Learning/blob/main/NN_DS3_Obi.ipynb\" target=\"_parent\"><img src=\"https://colab.research.google.com/assets/colab-badge.svg\" alt=\"Open In Colab\"/></a>"
      ]
    },
    {
      "cell_type": "code",
      "execution_count": null,
      "metadata": {
        "colab": {
          "base_uri": "https://localhost:8080/"
        },
        "id": "tz9KwPjmmVQ2",
        "outputId": "0866707d-4193-4508-e2fc-7b35a622beed"
      },
      "outputs": [
        {
          "output_type": "stream",
          "name": "stdout",
          "text": [
            "2.17.1\n"
          ]
        }
      ],
      "source": [
        "import tensorflow as tf\n",
        "import numpy as np\n",
        "import matplotlib.pyplot as plt\n",
        "\n",
        "#use tf.__version__ to get the TensorFlow version\n",
        "print(tf.__version__)"
      ]
    },
    {
      "cell_type": "code",
      "source": [
        "fashion_mnist = tf.keras.datasets.fashion_mnist\n",
        "(training_images, training_labels), (test_images, test_labels) = fashion_mnist.load_data()"
      ],
      "metadata": {
        "colab": {
          "base_uri": "https://localhost:8080/"
        },
        "id": "hraljA47nZ9H",
        "outputId": "361e7e8a-b941-4c3f-c5df-fc6832ffee01"
      },
      "execution_count": null,
      "outputs": [
        {
          "output_type": "stream",
          "name": "stdout",
          "text": [
            "Downloading data from https://storage.googleapis.com/tensorflow/tf-keras-datasets/train-labels-idx1-ubyte.gz\n",
            "\u001b[1m29515/29515\u001b[0m \u001b[32m━━━━━━━━━━━━━━━━━━━━\u001b[0m\u001b[37m\u001b[0m \u001b[1m0s\u001b[0m 0us/step\n",
            "Downloading data from https://storage.googleapis.com/tensorflow/tf-keras-datasets/train-images-idx3-ubyte.gz\n",
            "\u001b[1m26421880/26421880\u001b[0m \u001b[32m━━━━━━━━━━━━━━━━━━━━\u001b[0m\u001b[37m\u001b[0m \u001b[1m0s\u001b[0m 0us/step\n",
            "Downloading data from https://storage.googleapis.com/tensorflow/tf-keras-datasets/t10k-labels-idx1-ubyte.gz\n",
            "\u001b[1m5148/5148\u001b[0m \u001b[32m━━━━━━━━━━━━━━━━━━━━\u001b[0m\u001b[37m\u001b[0m \u001b[1m0s\u001b[0m 1us/step\n",
            "Downloading data from https://storage.googleapis.com/tensorflow/tf-keras-datasets/t10k-images-idx3-ubyte.gz\n",
            "\u001b[1m4422102/4422102\u001b[0m \u001b[32m━━━━━━━━━━━━━━━━━━━━\u001b[0m\u001b[37m\u001b[0m \u001b[1m0s\u001b[0m 0us/step\n"
          ]
        }
      ]
    },
    {
      "cell_type": "code",
      "source": [
        "class_names= ['T-shirt/top', 'Trouser', 'Pullover', 'Dress', 'Coat', 'Sandal', 'Shirt', 'Sneaker', 'Bag', 'Ankle boot']"
      ],
      "metadata": {
        "id": "MKQpY7jfo8mL"
      },
      "execution_count": null,
      "outputs": []
    },
    {
      "cell_type": "code",
      "source": [
        "training_images.shape"
      ],
      "metadata": {
        "colab": {
          "base_uri": "https://localhost:8080/"
        },
        "id": "0-eF3pZjo816",
        "outputId": "ce44787f-ee15-4d53-b64a-e2db2d5bde21"
      },
      "execution_count": null,
      "outputs": [
        {
          "output_type": "execute_result",
          "data": {
            "text/plain": [
              "(60000, 28, 28)"
            ]
          },
          "metadata": {},
          "execution_count": 9
        }
      ]
    },
    {
      "cell_type": "code",
      "source": [
        "len(training_labels)"
      ],
      "metadata": {
        "colab": {
          "base_uri": "https://localhost:8080/"
        },
        "id": "omJVlt58o85t",
        "outputId": "19904f24-3908-436c-ca47-f632f57ec742"
      },
      "execution_count": null,
      "outputs": [
        {
          "output_type": "execute_result",
          "data": {
            "text/plain": [
              "60000"
            ]
          },
          "metadata": {},
          "execution_count": 10
        }
      ]
    },
    {
      "cell_type": "code",
      "source": [
        "training_labels"
      ],
      "metadata": {
        "colab": {
          "base_uri": "https://localhost:8080/"
        },
        "id": "RGNNsuJXo88N",
        "outputId": "0509b769-47fc-4f2c-b7dc-e05f34c78df5"
      },
      "execution_count": null,
      "outputs": [
        {
          "output_type": "execute_result",
          "data": {
            "text/plain": [
              "array([9, 0, 0, ..., 3, 0, 5], dtype=uint8)"
            ]
          },
          "metadata": {},
          "execution_count": 11
        }
      ]
    },
    {
      "cell_type": "code",
      "source": [
        "print(training_labels[:5]) # Prints the first 5 elements of the training_labels array"
      ],
      "metadata": {
        "colab": {
          "base_uri": "https://localhost:8080/"
        },
        "id": "8uEtFm-zo9Ay",
        "outputId": "c59e2c5a-9460-423b-dd66-3d13f4110f7e"
      },
      "execution_count": null,
      "outputs": [
        {
          "output_type": "stream",
          "name": "stdout",
          "text": [
            "[9 0 0 3 0]\n"
          ]
        }
      ]
    },
    {
      "cell_type": "code",
      "source": [
        "test_images.shape"
      ],
      "metadata": {
        "colab": {
          "base_uri": "https://localhost:8080/"
        },
        "id": "8_0D60Doo9EO",
        "outputId": "49b9c3dd-a51c-4278-be3b-3d7c2828453c"
      },
      "execution_count": null,
      "outputs": [
        {
          "output_type": "execute_result",
          "data": {
            "text/plain": [
              "(10000, 28, 28)"
            ]
          },
          "metadata": {},
          "execution_count": 14
        }
      ]
    },
    {
      "cell_type": "code",
      "source": [
        "print(test_labels[:5])"
      ],
      "metadata": {
        "colab": {
          "base_uri": "https://localhost:8080/"
        },
        "id": "R0efU2H1o9ID",
        "outputId": "9140e385-733b-431a-b47a-a637656f96a1"
      },
      "execution_count": null,
      "outputs": [
        {
          "output_type": "stream",
          "name": "stdout",
          "text": [
            "[9 2 1 1 6]\n"
          ]
        }
      ]
    },
    {
      "cell_type": "code",
      "source": [
        "len(test_labels)"
      ],
      "metadata": {
        "colab": {
          "base_uri": "https://localhost:8080/"
        },
        "id": "WCr2TARSrwFS",
        "outputId": "34f22809-7979-48a9-e25f-8457aedad1a6"
      },
      "execution_count": null,
      "outputs": [
        {
          "output_type": "execute_result",
          "data": {
            "text/plain": [
              "10000"
            ]
          },
          "metadata": {},
          "execution_count": 16
        }
      ]
    },
    {
      "cell_type": "code",
      "source": [
        "#Data Preprocessing\n",
        "#Normalize the input values(divide by range of values)\n",
        "plt.figure()\n",
        "plt.imshow(training_images[102])\n",
        "plt.colorbar()\n",
        "plt.grid(False)\n",
        "plt.show()"
      ],
      "metadata": {
        "colab": {
          "base_uri": "https://localhost:8080/",
          "height": 430
        },
        "id": "X6YgtEQdrwI-",
        "outputId": "dd985e00-da73-4c47-a205-bcb94e61ebc7"
      },
      "execution_count": null,
      "outputs": [
        {
          "output_type": "display_data",
          "data": {
            "text/plain": [
              "<Figure size 640x480 with 2 Axes>"
            ],
            "image/png": "[encoded data removed]"
          },
          "metadata": {}
        }
      ]
    },
    {
      "cell_type": "code",
      "source": [
        "# normaliza\n",
        "#256-1(0,1-----255)\n",
        "training_images = training_images / 255.0\n",
        "test_images = test_images / 255.0"
      ],
      "metadata": {
        "id": "dRhfAvT0rwML"
      },
      "execution_count": null,
      "outputs": []
    },
    {
      "cell_type": "code",
      "source": [
        "training_images[:1]"
      ],
      "metadata": {
        "colab": {
          "base_uri": "https://localhost:8080/"
        },
        "id": "8E9grEnyrwQj",
        "outputId": "0c025e28-f3cc-4fd7-e0dc-4f095eb61253"
      },
      "execution_count": null,
      "outputs": [
        {
          "output_type": "execute_result",
          "data": {
            "text/plain": [
              "array([[[0.        , 0.        , 0.        , 0.        , 0.        ,\n",
              "         0.        , 0.        , 0.        , 0.        , 0.        ,\n",
              "         0.        , 0.        , 0.        , 0.        , 0.        ,\n",
              "         0.        , 0.        , 0.        , 0.        , 0.        ,\n",
              "         0.        , 0.        , 0.        , 0.        , 0.        ,\n",
              "         0.        , 0.        , 0.        ],\n",
              "        [0.        , 0.        , 0.        , 0.        , 0.        ,\n",
              "         0.        , 0.        , 0.        , 0.        , 0.        ,\n",
              "         0.        , 0.        , 0.        , 0.        , 0.        ,\n",
              "         0.        , 0.        , 0.        , 0.        , 0.        ,\n",
              "         0.        , 0.        , 0.        , 0.        , 0.        ,\n",
              "         0.        , 0.        , 0.        ],\n",
              "        [0.        , 0.        , 0.        , 0.        , 0.        ,\n",
              "         0.        , 0.        , 0.        , 0.        , 0.        ,\n",
              "         0.        , 0.        , 0.        , 0.        , 0.        ,\n",
              "         0.        , 0.        , 0.        , 0.        , 0.        ,\n",
              "         0.        , 0.        , 0.        , 0.        , 0.        ,\n",
              "         0.        , 0.        , 0.        ],\n",
              "        [0.        , 0.        , 0.        , 0.        , 0.        ,\n",
              "         0.        , 0.        , 0.        , 0.        , 0.        ,\n",
              "         0.        , 0.        , 0.00392157, 0.        , 0.        ,\n",
              "         0.05098039, 0.28627451, 0.        , 0.        , 0.00392157,\n",
              "         0.01568627, 0.        , 0.        , 0.        , 0.        ,\n",
              "         0.00392157, 0.00392157, 0.        ],\n",
              "        [0.        , 0.        , 0.        , 0.        , 0.        ,\n",
              "         0.        , 0.        , 0.        , 0.        , 0.        ,\n",
              "         0.        , 0.        , 0.01176471, 0.        , 0.14117647,\n",
              "         0.53333333, 0.49803922, 0.24313725, 0.21176471, 0.        ,\n",
              "         0.        , 0.        , 0.00392157, 0.01176471, 0.01568627,\n",
              "         0.        , 0.        , 0.01176471],\n",
              "        [0.        , 0.        , 0.        , 0.        , 0.        ,\n",
              "         0.        , 0.        , 0.        , 0.        , 0.        ,\n",
              "         0.        , 0.        , 0.02352941, 0.        , 0.4       ,\n",
              "         0.8       , 0.69019608, 0.5254902 , 0.56470588, 0.48235294,\n",
              "         0.09019608, 0.        , 0.        , 0.        , 0.        ,\n",
              "         0.04705882, 0.03921569, 0.        ],\n",
              "        [0.        , 0.        , 0.        , 0.        , 0.        ,\n",
              "         0.        , 0.        , 0.        , 0.        , 0.        ,\n",
              "         0.        , 0.        , 0.        , 0.        , 0.60784314,\n",
              "         0.9254902 , 0.81176471, 0.69803922, 0.41960784, 0.61176471,\n",
              "         0.63137255, 0.42745098, 0.25098039, 0.09019608, 0.30196078,\n",
              "         0.50980392, 0.28235294, 0.05882353],\n",
              "        [0.        , 0.        , 0.        , 0.        , 0.        ,\n",
              "         0.        , 0.        , 0.        , 0.        , 0.        ,\n",
              "         0.        , 0.00392157, 0.        , 0.27058824, 0.81176471,\n",
              "         0.8745098 , 0.85490196, 0.84705882, 0.84705882, 0.63921569,\n",
              "         0.49803922, 0.4745098 , 0.47843137, 0.57254902, 0.55294118,\n",
              "         0.34509804, 0.6745098 , 0.25882353],\n",
              "        [0.        , 0.        , 0.        , 0.        , 0.        ,\n",
              "         0.        , 0.        , 0.        , 0.        , 0.00392157,\n",
              "         0.00392157, 0.00392157, 0.        , 0.78431373, 0.90980392,\n",
              "         0.90980392, 0.91372549, 0.89803922, 0.8745098 , 0.8745098 ,\n",
              "         0.84313725, 0.83529412, 0.64313725, 0.49803922, 0.48235294,\n",
              "         0.76862745, 0.89803922, 0.        ],\n",
              "        [0.        , 0.        , 0.        , 0.        , 0.        ,\n",
              "         0.        , 0.        , 0.        , 0.        , 0.        ,\n",
              "         0.        , 0.        , 0.        , 0.71764706, 0.88235294,\n",
              "         0.84705882, 0.8745098 , 0.89411765, 0.92156863, 0.89019608,\n",
              "         0.87843137, 0.87058824, 0.87843137, 0.86666667, 0.8745098 ,\n",
              "         0.96078431, 0.67843137, 0.        ],\n",
              "        [0.        , 0.        , 0.        , 0.        , 0.        ,\n",
              "         0.        , 0.        , 0.        , 0.        , 0.        ,\n",
              "         0.        , 0.        , 0.        , 0.75686275, 0.89411765,\n",
              "         0.85490196, 0.83529412, 0.77647059, 0.70588235, 0.83137255,\n",
              "         0.82352941, 0.82745098, 0.83529412, 0.8745098 , 0.8627451 ,\n",
              "         0.95294118, 0.79215686, 0.        ],\n",
              "        [0.        , 0.        , 0.        , 0.        , 0.        ,\n",
              "         0.        , 0.        , 0.        , 0.        , 0.00392157,\n",
              "         0.01176471, 0.        , 0.04705882, 0.85882353, 0.8627451 ,\n",
              "         0.83137255, 0.85490196, 0.75294118, 0.6627451 , 0.89019608,\n",
              "         0.81568627, 0.85490196, 0.87843137, 0.83137255, 0.88627451,\n",
              "         0.77254902, 0.81960784, 0.20392157],\n",
              "        [0.        , 0.        , 0.        , 0.        , 0.        ,\n",
              "         0.        , 0.        , 0.        , 0.        , 0.        ,\n",
              "         0.02352941, 0.        , 0.38823529, 0.95686275, 0.87058824,\n",
              "         0.8627451 , 0.85490196, 0.79607843, 0.77647059, 0.86666667,\n",
              "         0.84313725, 0.83529412, 0.87058824, 0.8627451 , 0.96078431,\n",
              "         0.46666667, 0.65490196, 0.21960784],\n",
              "        [0.        , 0.        , 0.        , 0.        , 0.        ,\n",
              "         0.        , 0.        , 0.        , 0.        , 0.01568627,\n",
              "         0.        , 0.        , 0.21568627, 0.9254902 , 0.89411765,\n",
              "         0.90196078, 0.89411765, 0.94117647, 0.90980392, 0.83529412,\n",
              "         0.85490196, 0.8745098 , 0.91764706, 0.85098039, 0.85098039,\n",
              "         0.81960784, 0.36078431, 0.        ],\n",
              "        [0.        , 0.        , 0.00392157, 0.01568627, 0.02352941,\n",
              "         0.02745098, 0.00784314, 0.        , 0.        , 0.        ,\n",
              "         0.        , 0.        , 0.92941176, 0.88627451, 0.85098039,\n",
              "         0.8745098 , 0.87058824, 0.85882353, 0.87058824, 0.86666667,\n",
              "         0.84705882, 0.8745098 , 0.89803922, 0.84313725, 0.85490196,\n",
              "         1.        , 0.30196078, 0.        ],\n",
              "        [0.        , 0.01176471, 0.        , 0.        , 0.        ,\n",
              "         0.        , 0.        , 0.        , 0.        , 0.24313725,\n",
              "         0.56862745, 0.8       , 0.89411765, 0.81176471, 0.83529412,\n",
              "         0.86666667, 0.85490196, 0.81568627, 0.82745098, 0.85490196,\n",
              "         0.87843137, 0.8745098 , 0.85882353, 0.84313725, 0.87843137,\n",
              "         0.95686275, 0.62352941, 0.        ],\n",
              "        [0.        , 0.        , 0.        , 0.        , 0.07058824,\n",
              "         0.17254902, 0.32156863, 0.41960784, 0.74117647, 0.89411765,\n",
              "         0.8627451 , 0.87058824, 0.85098039, 0.88627451, 0.78431373,\n",
              "         0.80392157, 0.82745098, 0.90196078, 0.87843137, 0.91764706,\n",
              "         0.69019608, 0.7372549 , 0.98039216, 0.97254902, 0.91372549,\n",
              "         0.93333333, 0.84313725, 0.        ],\n",
              "        [0.        , 0.22352941, 0.73333333, 0.81568627, 0.87843137,\n",
              "         0.86666667, 0.87843137, 0.81568627, 0.8       , 0.83921569,\n",
              "         0.81568627, 0.81960784, 0.78431373, 0.62352941, 0.96078431,\n",
              "         0.75686275, 0.80784314, 0.8745098 , 1.        , 1.        ,\n",
              "         0.86666667, 0.91764706, 0.86666667, 0.82745098, 0.8627451 ,\n",
              "         0.90980392, 0.96470588, 0.        ],\n",
              "        [0.01176471, 0.79215686, 0.89411765, 0.87843137, 0.86666667,\n",
              "         0.82745098, 0.82745098, 0.83921569, 0.80392157, 0.80392157,\n",
              "         0.80392157, 0.8627451 , 0.94117647, 0.31372549, 0.58823529,\n",
              "         1.        , 0.89803922, 0.86666667, 0.7372549 , 0.60392157,\n",
              "         0.74901961, 0.82352941, 0.8       , 0.81960784, 0.87058824,\n",
              "         0.89411765, 0.88235294, 0.        ],\n",
              "        [0.38431373, 0.91372549, 0.77647059, 0.82352941, 0.87058824,\n",
              "         0.89803922, 0.89803922, 0.91764706, 0.97647059, 0.8627451 ,\n",
              "         0.76078431, 0.84313725, 0.85098039, 0.94509804, 0.25490196,\n",
              "         0.28627451, 0.41568627, 0.45882353, 0.65882353, 0.85882353,\n",
              "         0.86666667, 0.84313725, 0.85098039, 0.8745098 , 0.8745098 ,\n",
              "         0.87843137, 0.89803922, 0.11372549],\n",
              "        [0.29411765, 0.8       , 0.83137255, 0.8       , 0.75686275,\n",
              "         0.80392157, 0.82745098, 0.88235294, 0.84705882, 0.7254902 ,\n",
              "         0.77254902, 0.80784314, 0.77647059, 0.83529412, 0.94117647,\n",
              "         0.76470588, 0.89019608, 0.96078431, 0.9372549 , 0.8745098 ,\n",
              "         0.85490196, 0.83137255, 0.81960784, 0.87058824, 0.8627451 ,\n",
              "         0.86666667, 0.90196078, 0.2627451 ],\n",
              "        [0.18823529, 0.79607843, 0.71764706, 0.76078431, 0.83529412,\n",
              "         0.77254902, 0.7254902 , 0.74509804, 0.76078431, 0.75294118,\n",
              "         0.79215686, 0.83921569, 0.85882353, 0.86666667, 0.8627451 ,\n",
              "         0.9254902 , 0.88235294, 0.84705882, 0.78039216, 0.80784314,\n",
              "         0.72941176, 0.70980392, 0.69411765, 0.6745098 , 0.70980392,\n",
              "         0.80392157, 0.80784314, 0.45098039],\n",
              "        [0.        , 0.47843137, 0.85882353, 0.75686275, 0.70196078,\n",
              "         0.67058824, 0.71764706, 0.76862745, 0.8       , 0.82352941,\n",
              "         0.83529412, 0.81176471, 0.82745098, 0.82352941, 0.78431373,\n",
              "         0.76862745, 0.76078431, 0.74901961, 0.76470588, 0.74901961,\n",
              "         0.77647059, 0.75294118, 0.69019608, 0.61176471, 0.65490196,\n",
              "         0.69411765, 0.82352941, 0.36078431],\n",
              "        [0.        , 0.        , 0.29019608, 0.74117647, 0.83137255,\n",
              "         0.74901961, 0.68627451, 0.6745098 , 0.68627451, 0.70980392,\n",
              "         0.7254902 , 0.7372549 , 0.74117647, 0.7372549 , 0.75686275,\n",
              "         0.77647059, 0.8       , 0.81960784, 0.82352941, 0.82352941,\n",
              "         0.82745098, 0.7372549 , 0.7372549 , 0.76078431, 0.75294118,\n",
              "         0.84705882, 0.66666667, 0.        ],\n",
              "        [0.00784314, 0.        , 0.        , 0.        , 0.25882353,\n",
              "         0.78431373, 0.87058824, 0.92941176, 0.9372549 , 0.94901961,\n",
              "         0.96470588, 0.95294118, 0.95686275, 0.86666667, 0.8627451 ,\n",
              "         0.75686275, 0.74901961, 0.70196078, 0.71372549, 0.71372549,\n",
              "         0.70980392, 0.69019608, 0.65098039, 0.65882353, 0.38823529,\n",
              "         0.22745098, 0.        , 0.        ],\n",
              "        [0.        , 0.        , 0.        , 0.        , 0.        ,\n",
              "         0.        , 0.        , 0.15686275, 0.23921569, 0.17254902,\n",
              "         0.28235294, 0.16078431, 0.1372549 , 0.        , 0.        ,\n",
              "         0.        , 0.        , 0.        , 0.        , 0.        ,\n",
              "         0.        , 0.        , 0.        , 0.        , 0.        ,\n",
              "         0.        , 0.        , 0.        ],\n",
              "        [0.        , 0.        , 0.        , 0.        , 0.        ,\n",
              "         0.        , 0.        , 0.        , 0.        , 0.        ,\n",
              "         0.        , 0.        , 0.        , 0.        , 0.        ,\n",
              "         0.        , 0.        , 0.        , 0.        , 0.        ,\n",
              "         0.        , 0.        , 0.        , 0.        , 0.        ,\n",
              "         0.        , 0.        , 0.        ],\n",
              "        [0.        , 0.        , 0.        , 0.        , 0.        ,\n",
              "         0.        , 0.        , 0.        , 0.        , 0.        ,\n",
              "         0.        , 0.        , 0.        , 0.        , 0.        ,\n",
              "         0.        , 0.        , 0.        , 0.        , 0.        ,\n",
              "         0.        , 0.        , 0.        , 0.        , 0.        ,\n",
              "         0.        , 0.        , 0.        ]]])"
            ]
          },
          "metadata": {},
          "execution_count": 24
        }
      ]
    },
    {
      "cell_type": "code",
      "source": [
        "test_images[:1]"
      ],
      "metadata": {
        "colab": {
          "base_uri": "https://localhost:8080/"
        },
        "id": "-tJ_0S6SrwV9",
        "outputId": "4e781304-fbc5-41cc-de2d-7a5728bf7ea3"
      },
      "execution_count": null,
      "outputs": [
        {
          "output_type": "execute_result",
          "data": {
            "text/plain": [
              "array([[[0.        , 0.        , 0.        , 0.        , 0.        ,\n",
              "         0.        , 0.        , 0.        , 0.        , 0.        ,\n",
              "         0.        , 0.        , 0.        , 0.        , 0.        ,\n",
              "         0.        , 0.        , 0.        , 0.        , 0.        ,\n",
              "         0.        , 0.        , 0.        , 0.        , 0.        ,\n",
              "         0.        , 0.        , 0.        ],\n",
              "        [0.        , 0.        , 0.        , 0.        , 0.        ,\n",
              "         0.        , 0.        , 0.        , 0.        , 0.        ,\n",
              "         0.        , 0.        , 0.        , 0.        , 0.        ,\n",
              "         0.        , 0.        , 0.        , 0.        , 0.        ,\n",
              "         0.        , 0.        , 0.        , 0.        , 0.        ,\n",
              "         0.        , 0.        , 0.        ],\n",
              "        [0.        , 0.        , 0.        , 0.        , 0.        ,\n",
              "         0.        , 0.        , 0.        , 0.        , 0.        ,\n",
              "         0.        , 0.        , 0.        , 0.        , 0.        ,\n",
              "         0.        , 0.        , 0.        , 0.        , 0.        ,\n",
              "         0.        , 0.        , 0.        , 0.        , 0.        ,\n",
              "         0.        , 0.        , 0.        ],\n",
              "        [0.        , 0.        , 0.        , 0.        , 0.        ,\n",
              "         0.        , 0.        , 0.        , 0.        , 0.        ,\n",
              "         0.        , 0.        , 0.        , 0.        , 0.        ,\n",
              "         0.        , 0.        , 0.        , 0.        , 0.        ,\n",
              "         0.        , 0.        , 0.        , 0.        , 0.        ,\n",
              "         0.        , 0.        , 0.        ],\n",
              "        [0.        , 0.        , 0.        , 0.        , 0.        ,\n",
              "         0.        , 0.        , 0.        , 0.        , 0.        ,\n",
              "         0.        , 0.        , 0.        , 0.        , 0.        ,\n",
              "         0.        , 0.        , 0.        , 0.        , 0.        ,\n",
              "         0.        , 0.        , 0.        , 0.        , 0.        ,\n",
              "         0.        , 0.        , 0.        ],\n",
              "        [0.        , 0.        , 0.        , 0.        , 0.        ,\n",
              "         0.        , 0.        , 0.        , 0.        , 0.        ,\n",
              "         0.        , 0.        , 0.        , 0.        , 0.        ,\n",
              "         0.        , 0.        , 0.        , 0.        , 0.        ,\n",
              "         0.        , 0.        , 0.        , 0.        , 0.        ,\n",
              "         0.        , 0.        , 0.        ],\n",
              "        [0.        , 0.        , 0.        , 0.        , 0.        ,\n",
              "         0.        , 0.        , 0.        , 0.        , 0.        ,\n",
              "         0.        , 0.        , 0.        , 0.        , 0.        ,\n",
              "         0.        , 0.        , 0.        , 0.        , 0.        ,\n",
              "         0.        , 0.        , 0.        , 0.        , 0.        ,\n",
              "         0.        , 0.        , 0.        ],\n",
              "        [0.        , 0.        , 0.        , 0.        , 0.        ,\n",
              "         0.        , 0.        , 0.        , 0.        , 0.        ,\n",
              "         0.        , 0.        , 0.        , 0.        , 0.        ,\n",
              "         0.        , 0.        , 0.        , 0.        , 0.01176471,\n",
              "         0.00392157, 0.        , 0.        , 0.02745098, 0.        ,\n",
              "         0.14509804, 0.        , 0.        ],\n",
              "        [0.        , 0.        , 0.        , 0.        , 0.        ,\n",
              "         0.        , 0.        , 0.        , 0.        , 0.        ,\n",
              "         0.        , 0.        , 0.        , 0.00392157, 0.00784314,\n",
              "         0.        , 0.10588235, 0.32941176, 0.04313725, 0.        ,\n",
              "         0.        , 0.        , 0.        , 0.        , 0.        ,\n",
              "         0.46666667, 0.        , 0.        ],\n",
              "        [0.        , 0.        , 0.        , 0.        , 0.        ,\n",
              "         0.        , 0.        , 0.        , 0.        , 0.        ,\n",
              "         0.        , 0.        , 0.        , 0.00392157, 0.        ,\n",
              "         0.        , 0.34509804, 0.56078431, 0.43137255, 0.        ,\n",
              "         0.        , 0.        , 0.        , 0.08627451, 0.36470588,\n",
              "         0.41568627, 0.        , 0.        ],\n",
              "        [0.        , 0.        , 0.        , 0.        , 0.        ,\n",
              "         0.        , 0.        , 0.        , 0.        , 0.        ,\n",
              "         0.        , 0.        , 0.        , 0.01568627, 0.        ,\n",
              "         0.20784314, 0.50588235, 0.47058824, 0.57647059, 0.68627451,\n",
              "         0.61568627, 0.65098039, 0.52941176, 0.60392157, 0.65882353,\n",
              "         0.54901961, 0.        , 0.        ],\n",
              "        [0.        , 0.        , 0.        , 0.        , 0.        ,\n",
              "         0.        , 0.        , 0.        , 0.        , 0.        ,\n",
              "         0.        , 0.        , 0.00784314, 0.        , 0.04313725,\n",
              "         0.5372549 , 0.50980392, 0.50196078, 0.62745098, 0.69019608,\n",
              "         0.62352941, 0.65490196, 0.69803922, 0.58431373, 0.59215686,\n",
              "         0.56470588, 0.        , 0.        ],\n",
              "        [0.        , 0.        , 0.        , 0.        , 0.        ,\n",
              "         0.        , 0.00392157, 0.        , 0.00784314, 0.00392157,\n",
              "         0.        , 0.01176471, 0.        , 0.        , 0.45098039,\n",
              "         0.44705882, 0.41568627, 0.5372549 , 0.65882353, 0.6       ,\n",
              "         0.61176471, 0.64705882, 0.65490196, 0.56078431, 0.61568627,\n",
              "         0.61960784, 0.04313725, 0.        ],\n",
              "        [0.        , 0.        , 0.        , 0.        , 0.00392157,\n",
              "         0.        , 0.        , 0.        , 0.        , 0.        ,\n",
              "         0.01176471, 0.        , 0.        , 0.34901961, 0.54509804,\n",
              "         0.35294118, 0.36862745, 0.6       , 0.58431373, 0.51372549,\n",
              "         0.59215686, 0.6627451 , 0.6745098 , 0.56078431, 0.62352941,\n",
              "         0.6627451 , 0.18823529, 0.        ],\n",
              "        [0.        , 0.        , 0.        , 0.        , 0.        ,\n",
              "         0.        , 0.00784314, 0.01568627, 0.00392157, 0.        ,\n",
              "         0.        , 0.        , 0.38431373, 0.53333333, 0.43137255,\n",
              "         0.42745098, 0.43137255, 0.63529412, 0.52941176, 0.56470588,\n",
              "         0.58431373, 0.62352941, 0.65490196, 0.56470588, 0.61960784,\n",
              "         0.6627451 , 0.46666667, 0.        ],\n",
              "        [0.        , 0.        , 0.00784314, 0.00784314, 0.00392157,\n",
              "         0.00784314, 0.        , 0.        , 0.        , 0.        ,\n",
              "         0.10196078, 0.42352941, 0.45882353, 0.38823529, 0.43529412,\n",
              "         0.45882353, 0.53333333, 0.61176471, 0.5254902 , 0.60392157,\n",
              "         0.60392157, 0.61176471, 0.62745098, 0.55294118, 0.57647059,\n",
              "         0.61176471, 0.69803922, 0.        ],\n",
              "        [0.01176471, 0.        , 0.        , 0.        , 0.        ,\n",
              "         0.        , 0.        , 0.08235294, 0.20784314, 0.36078431,\n",
              "         0.45882353, 0.43529412, 0.40392157, 0.45098039, 0.50588235,\n",
              "         0.5254902 , 0.56078431, 0.60392157, 0.64705882, 0.66666667,\n",
              "         0.60392157, 0.59215686, 0.60392157, 0.56078431, 0.54117647,\n",
              "         0.58823529, 0.64705882, 0.16862745],\n",
              "        [0.        , 0.        , 0.09019608, 0.21176471, 0.25490196,\n",
              "         0.29803922, 0.33333333, 0.4627451 , 0.50196078, 0.48235294,\n",
              "         0.43529412, 0.44313725, 0.4627451 , 0.49803922, 0.49019608,\n",
              "         0.54509804, 0.52156863, 0.53333333, 0.62745098, 0.54901961,\n",
              "         0.60784314, 0.63137255, 0.56470588, 0.60784314, 0.6745098 ,\n",
              "         0.63137255, 0.74117647, 0.24313725],\n",
              "        [0.        , 0.26666667, 0.36862745, 0.35294118, 0.43529412,\n",
              "         0.44705882, 0.43529412, 0.44705882, 0.45098039, 0.49803922,\n",
              "         0.52941176, 0.53333333, 0.56078431, 0.49411765, 0.49803922,\n",
              "         0.59215686, 0.60392157, 0.56078431, 0.58039216, 0.49019608,\n",
              "         0.63529412, 0.63529412, 0.56470588, 0.54117647, 0.6       ,\n",
              "         0.63529412, 0.76862745, 0.22745098],\n",
              "        [0.2745098 , 0.6627451 , 0.50588235, 0.40784314, 0.38431373,\n",
              "         0.39215686, 0.36862745, 0.38039216, 0.38431373, 0.4       ,\n",
              "         0.42352941, 0.41568627, 0.46666667, 0.47058824, 0.50588235,\n",
              "         0.58431373, 0.61176471, 0.65490196, 0.74509804, 0.74509804,\n",
              "         0.76862745, 0.77647059, 0.77647059, 0.73333333, 0.77254902,\n",
              "         0.74117647, 0.72156863, 0.14117647],\n",
              "        [0.0627451 , 0.49411765, 0.67058824, 0.7372549 , 0.7372549 ,\n",
              "         0.72156863, 0.67058824, 0.6       , 0.52941176, 0.47058824,\n",
              "         0.49411765, 0.49803922, 0.57254902, 0.7254902 , 0.76470588,\n",
              "         0.81960784, 0.81568627, 1.        , 0.81960784, 0.69411765,\n",
              "         0.96078431, 0.98823529, 0.98431373, 0.98431373, 0.96862745,\n",
              "         0.8627451 , 0.80784314, 0.19215686],\n",
              "        [0.        , 0.        , 0.        , 0.04705882, 0.2627451 ,\n",
              "         0.41568627, 0.64313725, 0.7254902 , 0.78039216, 0.82352941,\n",
              "         0.82745098, 0.82352941, 0.81568627, 0.74509804, 0.58823529,\n",
              "         0.32156863, 0.03137255, 0.        , 0.        , 0.        ,\n",
              "         0.69803922, 0.81568627, 0.7372549 , 0.68627451, 0.63529412,\n",
              "         0.61960784, 0.59215686, 0.04313725],\n",
              "        [0.        , 0.        , 0.        , 0.        , 0.        ,\n",
              "         0.        , 0.        , 0.        , 0.        , 0.        ,\n",
              "         0.        , 0.        , 0.        , 0.        , 0.        ,\n",
              "         0.        , 0.        , 0.        , 0.        , 0.        ,\n",
              "         0.        , 0.        , 0.        , 0.        , 0.        ,\n",
              "         0.        , 0.        , 0.        ],\n",
              "        [0.        , 0.        , 0.        , 0.        , 0.        ,\n",
              "         0.        , 0.        , 0.        , 0.        , 0.        ,\n",
              "         0.        , 0.        , 0.        , 0.        , 0.        ,\n",
              "         0.        , 0.        , 0.        , 0.        , 0.        ,\n",
              "         0.        , 0.        , 0.        , 0.        , 0.        ,\n",
              "         0.        , 0.        , 0.        ],\n",
              "        [0.        , 0.        , 0.        , 0.        , 0.        ,\n",
              "         0.        , 0.        , 0.        , 0.        , 0.        ,\n",
              "         0.        , 0.        , 0.        , 0.        , 0.        ,\n",
              "         0.        , 0.        , 0.        , 0.        , 0.        ,\n",
              "         0.        , 0.        , 0.        , 0.        , 0.        ,\n",
              "         0.        , 0.        , 0.        ],\n",
              "        [0.        , 0.        , 0.        , 0.        , 0.        ,\n",
              "         0.        , 0.        , 0.        , 0.        , 0.        ,\n",
              "         0.        , 0.        , 0.        , 0.        , 0.        ,\n",
              "         0.        , 0.        , 0.        , 0.        , 0.        ,\n",
              "         0.        , 0.        , 0.        , 0.        , 0.        ,\n",
              "         0.        , 0.        , 0.        ],\n",
              "        [0.        , 0.        , 0.        , 0.        , 0.        ,\n",
              "         0.        , 0.        , 0.        , 0.        , 0.        ,\n",
              "         0.        , 0.        , 0.        , 0.        , 0.        ,\n",
              "         0.        , 0.        , 0.        , 0.        , 0.        ,\n",
              "         0.        , 0.        , 0.        , 0.        , 0.        ,\n",
              "         0.        , 0.        , 0.        ],\n",
              "        [0.        , 0.        , 0.        , 0.        , 0.        ,\n",
              "         0.        , 0.        , 0.        , 0.        , 0.        ,\n",
              "         0.        , 0.        , 0.        , 0.        , 0.        ,\n",
              "         0.        , 0.        , 0.        , 0.        , 0.        ,\n",
              "         0.        , 0.        , 0.        , 0.        , 0.        ,\n",
              "         0.        , 0.        , 0.        ]]])"
            ]
          },
          "metadata": {},
          "execution_count": 25
        }
      ]
    },
    {
      "cell_type": "code",
      "source": [
        "#setting up the layers\n",
        "model = tf.keras.Sequential([\n",
        "    tf.keras.layers.Flatten(input_shape=(28, 28)),\n",
        "    tf.keras.layers.Dense(128, activation='relu'),\n",
        "    tf.keras.layers.Dense(10)\n",
        "])"
      ],
      "metadata": {
        "id": "QEsGtUuAo9KL"
      },
      "execution_count": null,
      "outputs": []
    },
    {
      "cell_type": "code",
      "source": [
        "model.compile(optimizer='adam',\n",
        "              loss=tf.keras.losses.SparseCategoricalCrossentropy(from_logits=True),\n",
        "              metrics=['accuracy'])"
      ],
      "metadata": {
        "id": "OEqBNAkxo9PZ"
      },
      "execution_count": null,
      "outputs": []
    },
    {
      "cell_type": "code",
      "source": [
        "model.fit(training_images, training_labels, epochs=10)"
      ],
      "metadata": {
        "colab": {
          "base_uri": "https://localhost:8080/"
        },
        "id": "i14Yk7auo9Te",
        "outputId": "65ba99b8-c40f-4ea4-9af1-86e6dc37c31f"
      },
      "execution_count": null,
      "outputs": [
        {
          "output_type": "stream",
          "name": "stdout",
          "text": [
            "Epoch 1/10\n",
            "\u001b[1m1875/1875\u001b[0m \u001b[32m━━━━━━━━━━━━━━━━━━━━\u001b[0m\u001b[37m\u001b[0m \u001b[1m9s\u001b[0m 4ms/step - accuracy: 0.7807 - loss: 0.6340\n",
            "Epoch 2/10\n",
            "\u001b[1m1875/1875\u001b[0m \u001b[32m━━━━━━━━━━━━━━━━━━━━\u001b[0m\u001b[37m\u001b[0m \u001b[1m9s\u001b[0m 4ms/step - accuracy: 0.8644 - loss: 0.3802\n",
            "Epoch 3/10\n",
            "\u001b[1m1875/1875\u001b[0m \u001b[32m━━━━━━━━━━━━━━━━━━━━\u001b[0m\u001b[37m\u001b[0m \u001b[1m12s\u001b[0m 4ms/step - accuracy: 0.8766 - loss: 0.3357\n",
            "Epoch 4/10\n",
            "\u001b[1m1875/1875\u001b[0m \u001b[32m━━━━━━━━━━━━━━━━━━━━\u001b[0m\u001b[37m\u001b[0m \u001b[1m9s\u001b[0m 5ms/step - accuracy: 0.8841 - loss: 0.3128\n",
            "Epoch 5/10\n",
            "\u001b[1m1875/1875\u001b[0m \u001b[32m━━━━━━━━━━━━━━━━━━━━\u001b[0m\u001b[37m\u001b[0m \u001b[1m8s\u001b[0m 4ms/step - accuracy: 0.8934 - loss: 0.2936\n",
            "Epoch 6/10\n",
            "\u001b[1m1875/1875\u001b[0m \u001b[32m━━━━━━━━━━━━━━━━━━━━\u001b[0m\u001b[37m\u001b[0m \u001b[1m10s\u001b[0m 4ms/step - accuracy: 0.8958 - loss: 0.2812\n",
            "Epoch 7/10\n",
            "\u001b[1m1875/1875\u001b[0m \u001b[32m━━━━━━━━━━━━━━━━━━━━\u001b[0m\u001b[37m\u001b[0m \u001b[1m10s\u001b[0m 5ms/step - accuracy: 0.9005 - loss: 0.2703\n",
            "Epoch 8/10\n",
            "\u001b[1m1875/1875\u001b[0m \u001b[32m━━━━━━━━━━━━━━━━━━━━\u001b[0m\u001b[37m\u001b[0m \u001b[1m10s\u001b[0m 5ms/step - accuracy: 0.9067 - loss: 0.2483\n",
            "Epoch 9/10\n",
            "\u001b[1m1875/1875\u001b[0m \u001b[32m━━━━━━━━━━━━━━━━━━━━\u001b[0m\u001b[37m\u001b[0m \u001b[1m9s\u001b[0m 4ms/step - accuracy: 0.9067 - loss: 0.2468\n",
            "Epoch 10/10\n",
            "\u001b[1m1875/1875\u001b[0m \u001b[32m━━━━━━━━━━━━━━━━━━━━\u001b[0m\u001b[37m\u001b[0m \u001b[1m11s\u001b[0m 5ms/step - accuracy: 0.9094 - loss: 0.2394\n"
          ]
        },
        {
          "output_type": "execute_result",
          "data": {
            "text/plain": [
              "<keras.src.callbacks.history.History at 0x7f8435da9030>"
            ]
          },
          "metadata": {},
          "execution_count": 32
        }
      ]
    },
    {
      "cell_type": "code",
      "source": [
        "#90.94% accuracy on the training dataset\n"
      ],
      "metadata": {
        "id": "bO6Qofs4wCIZ"
      },
      "execution_count": null,
      "outputs": []
    },
    {
      "cell_type": "code",
      "source": [
        "test_loss, test_acc = model.evaluate(test_images,  test_labels, verbose=2)\n",
        "print('\\nTest accuracy:', test_acc)"
      ],
      "metadata": {
        "colab": {
          "base_uri": "https://localhost:8080/"
        },
        "id": "Z8zKXTLXwCTa",
        "outputId": "520fdc1e-cfb1-4cdb-99a4-7004b8f8acb4"
      },
      "execution_count": null,
      "outputs": [
        {
          "output_type": "stream",
          "name": "stdout",
          "text": [
            "313/313 - 1s - 2ms/step - accuracy: 0.8765 - loss: 0.3429\n",
            "\n",
            "Test accuracy: 0.8765000104904175\n"
          ]
        }
      ]
    },
    {
      "cell_type": "code",
      "source": [
        "probability_model = tf.keras.Sequential([model,\n",
        "                                         tf.keras.layers.Softmax()])"
      ],
      "metadata": {
        "id": "xhh9YzdRwCZH"
      },
      "execution_count": null,
      "outputs": []
    },
    {
      "cell_type": "code",
      "source": [
        "predictions = probability_model.predict(test_images)"
      ],
      "metadata": {
        "colab": {
          "base_uri": "https://localhost:8080/"
        },
        "id": "xVCFM0bT5R-u",
        "outputId": "304290f3-b107-4d8d-dac2-522d743b9077"
      },
      "execution_count": null,
      "outputs": [
        {
          "output_type": "stream",
          "name": "stdout",
          "text": [
            "\u001b[1m313/313\u001b[0m \u001b[32m━━━━━━━━━━━━━━━━━━━━\u001b[0m\u001b[37m\u001b[0m \u001b[1m1s\u001b[0m 2ms/step\n"
          ]
        }
      ]
    },
    {
      "cell_type": "code",
      "source": [
        "predictions[0]"
      ],
      "metadata": {
        "colab": {
          "base_uri": "https://localhost:8080/"
        },
        "id": "xU83bYdi5SCy",
        "outputId": "aa8c9467-5f97-4a47-fb2c-104e412a7bee"
      },
      "execution_count": null,
      "outputs": [
        {
          "output_type": "execute_result",
          "data": {
            "text/plain": [
              "array([5.39288401e-08, 1.05873754e-10, 9.48150216e-08, 9.87517534e-09,\n",
              "       2.17983986e-09, 1.09541428e-03, 4.67869683e-07, 2.56094732e-03,\n",
              "       1.23400048e-06, 9.96341825e-01], dtype=float32)"
            ]
          },
          "metadata": {},
          "execution_count": 38
        }
      ]
    },
    {
      "cell_type": "code",
      "source": [
        "np.argmax(predictions[0])"
      ],
      "metadata": {
        "colab": {
          "base_uri": "https://localhost:8080/"
        },
        "id": "81nAE9II5vx_",
        "outputId": "56a42105-c2a4-41d7-a3ec-28d721e23b7d"
      },
      "execution_count": null,
      "outputs": [
        {
          "output_type": "execute_result",
          "data": {
            "text/plain": [
              "9"
            ]
          },
          "metadata": {},
          "execution_count": 39
        }
      ]
    },
    {
      "cell_type": "code",
      "source": [
        "test_labels[0]"
      ],
      "metadata": {
        "colab": {
          "base_uri": "https://localhost:8080/"
        },
        "id": "5CmLFVee58Ed",
        "outputId": "87d15f89-598b-4c9a-d2d1-734dbeb9f9b2"
      },
      "execution_count": null,
      "outputs": [
        {
          "output_type": "execute_result",
          "data": {
            "text/plain": [
              "9"
            ]
          },
          "metadata": {},
          "execution_count": 40
        }
      ]
    },
    {
      "cell_type": "code",
      "source": [
        "plt.figure()\n",
        "plt.imshow(training_images[0])\n",
        "plt.colorbar()\n",
        "plt.grid(False)\n",
        "plt.show()"
      ],
      "metadata": {
        "colab": {
          "base_uri": "https://localhost:8080/",
          "height": 435
        },
        "id": "52Q7uCHn6dPd",
        "outputId": "a85318c5-7563-4362-a0b9-c0a70575109d"
      },
      "execution_count": null,
      "outputs": [
        {
          "output_type": "display_data",
          "data": {
            "text/plain": [
              "<Figure size 640x480 with 2 Axes>"
            ],
            "image/png": "[encoded data removed]"
          },
          "metadata": {}
        }
      ]
    },
    {
      "cell_type": "code",
      "source": [
        "plt.figure()\n",
        "plt.imshow(test_images[0]) # Changed test_labels[0] to test_images[0] to display the image\n",
        "plt.colorbar()\n",
        "plt.grid(False)\n",
        "plt.show()"
      ],
      "metadata": {
        "colab": {
          "base_uri": "https://localhost:8080/",
          "height": 435
        },
        "id": "XCH_M5ZH6h3a",
        "outputId": "332be84d-16b9-464f-bc47-29c6e3856703"
      },
      "execution_count": null,
      "outputs": [
        {
          "output_type": "display_data",
          "data": {
            "text/plain": [
              "<Figure size 640x480 with 2 Axes>"
            ],
            "image/png": "[encoded data removed]"
          },
          "metadata": {}
        }
      ]
    }
  ]
}